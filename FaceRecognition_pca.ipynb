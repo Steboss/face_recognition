{
 "cells": [
  {
   "cell_type": "code",
   "execution_count": 3,
   "metadata": {
    "collapsed": false
   },
   "outputs": [
    {
     "name": "stdout",
     "output_type": "stream",
     "text": [
      "Populating the interactive namespace from numpy and matplotlib\n"
     ]
    }
   ],
   "source": [
    "%pylab inline\n",
    "import matplotlib.pyplot as plt\n",
    "import matplotlib as mpl\n",
    "\n",
    "import numpy as np\n",
    "import math\n",
    "import re\n",
    "import os\n",
    "import seaborn as sbn\n",
    "sbn.set_style(\"whitegrid\")\n",
    "\n",
    "import matplotlib.image as mpimg\n",
    "\n",
    "from PIL import Image\n",
    "import glob"
   ]
  },
  {
   "cell_type": "code",
   "execution_count": 19,
   "metadata": {
    "collapsed": false
   },
   "outputs": [],
   "source": [
    "def load_image(image):\n",
    "    #each image is loaded --> resize --> vectorize --> store into a matrix T\n",
    "    starter = Image.open(image)\n",
    "    im_resize = resize_image(starter)\n",
    "    im_vector = vectorize_image(im_resize)\n",
    "    #create a column vector\n",
    "    im_vector = im_vector.reshape((im_vector.size,1))\n",
    "    #store into a big matrix\n",
    "    return im_vector\n",
    "        \n",
    "def resize_image(image):\n",
    "    #resize by a factor 16\n",
    "    im_resize = image.resize(((image.size[0]/4),(image.size[1]/4)))\n",
    "    return im_resize\n",
    "\n",
    "def vectorize_image(image):\n",
    "    #convert teh image into an array\n",
    "    im_arr = np.array(image)\n",
    "    im_flat = im_arr.ravel()\n",
    "    \n",
    "    return im_flat\n"
   ]
  },
  {
   "cell_type": "code",
   "execution_count": 22,
   "metadata": {
    "collapsed": false
   },
   "outputs": [],
   "source": [
    "#find all the images to open in a cycle\n",
    "#pass each image to load_image\n",
    "#return the vectorize image, thus np.c_[i-1,i] to concatenate all the vectors\n",
    "#at first we need to keep trak of a vector if counter==1 : np.c_[tmp,new] and then just np.c_[existing,new]\n",
    "\n",
    "counter = 0 \n",
    "for root,dirs,files in os.walk(os.getcwd()):\n",
    "    #find all the file images\n",
    "    #if pgm is teh extension and ambient is not in the name\n",
    "    for f in files:\n",
    "        if \"pgm\" in f:\n",
    "            if \"Ambient\" in f:\n",
    "                continue\n",
    "            else:\n",
    "                #create the path\n",
    "                im_path = root + \"/\" + f\n",
    "                #load the image\n",
    "                image = load_image(im_path)\n",
    "                #this is the image vector store\n",
    "                if counter == 0 :\n",
    "                    tmp = image\n",
    "                    counter+=1\n",
    "                else:\n",
    "                    #now combine the picture\n",
    "                    c = np.c_[tmp,image]\n",
    "                    tmp = c # so the temporary will be the matrix\n",
    "                    \n",
    "                \n",
    "\n",
    "\n"
   ]
  },
  {
   "cell_type": "code",
   "execution_count": null,
   "metadata": {
    "collapsed": true
   },
   "outputs": [],
   "source": [
    "def reconstruct_image(matrix):\n",
    "    #each  column is an image\n",
    "    "
   ]
  },
  {
   "cell_type": "code",
   "execution_count": 122,
   "metadata": {
    "collapsed": false
   },
   "outputs": [],
   "source": [
    "# normalize all the images by subtracting the average of the rows\n",
    "mean = c.mean(1)\n",
    "new_c = c.copy()  #get rid of this method then\n",
    "for i in range(c.shape[0]):\n",
    "    new_c[i] = new_c[i] - mean[i]\n",
    "\n",
    "    \n",
    "    "
   ]
  },
  {
   "cell_type": "code",
   "execution_count": 71,
   "metadata": {
    "collapsed": true
   },
   "outputs": [],
   "source": [
    "#compute the covariance matrix\n",
    "svar = np.cov(new_c)\n",
    "#compute eigenvalue and vectors\n",
    "val,vect = np.linalg.eigh(svar)\n",
    "#select the first 40 eigenvalues and vectors\n",
    "selec_val = val[0:40]\n",
    "select_vect = vect[0:40]"
   ]
  },
  {
   "cell_type": "code",
   "execution_count": 126,
   "metadata": {
    "collapsed": false
   },
   "outputs": [
    {
     "ename": "ValueError",
     "evalue": "total size of new array must be unchanged",
     "output_type": "error",
     "traceback": [
      "\u001b[1;31m---------------------------------------------------------------------------\u001b[0m",
      "\u001b[1;31mValueError\u001b[0m                                Traceback (most recent call last)",
      "\u001b[1;32m<ipython-input-126-1c52dc8e6bf2>\u001b[0m in \u001b[0;36m<module>\u001b[1;34m()\u001b[0m\n\u001b[0;32m      7\u001b[0m \u001b[0max\u001b[0m \u001b[1;33m=\u001b[0m \u001b[0mfig\u001b[0m\u001b[1;33m.\u001b[0m\u001b[0madd_subplot\u001b[0m\u001b[1;33m(\u001b[0m\u001b[1;36m111\u001b[0m\u001b[1;33m)\u001b[0m\u001b[1;33m\u001b[0m\u001b[0m\n\u001b[0;32m      8\u001b[0m \u001b[1;33m\u001b[0m\u001b[0m\n\u001b[1;32m----> 9\u001b[1;33m \u001b[0mfirst_vect\u001b[0m \u001b[1;33m=\u001b[0m \u001b[0mnp\u001b[0m\u001b[1;33m.\u001b[0m\u001b[0mreshape\u001b[0m\u001b[1;33m(\u001b[0m\u001b[0mselect_vect\u001b[0m\u001b[1;33m,\u001b[0m\u001b[1;33m[\u001b[0m\u001b[1;36m42\u001b[0m\u001b[1;33m,\u001b[0m\u001b[1;36m48\u001b[0m\u001b[1;33m]\u001b[0m\u001b[1;33m)\u001b[0m\u001b[1;33m\u001b[0m\u001b[0m\n\u001b[0m\u001b[0;32m     10\u001b[0m \u001b[0max\u001b[0m\u001b[1;33m.\u001b[0m\u001b[0mimshow\u001b[0m\u001b[1;33m(\u001b[0m\u001b[0md\u001b[0m\u001b[1;33m)\u001b[0m\u001b[1;33m\u001b[0m\u001b[0m\n\u001b[0;32m     11\u001b[0m \u001b[1;31m#ax.imshow(first_vect)\u001b[0m\u001b[1;33m\u001b[0m\u001b[1;33m\u001b[0m\u001b[0m\n",
      "\u001b[1;32m/usr/lib/python2.7/dist-packages/numpy/core/fromnumeric.pyc\u001b[0m in \u001b[0;36mreshape\u001b[1;34m(a, newshape, order)\u001b[0m\n\u001b[0;32m    216\u001b[0m     \u001b[1;32mexcept\u001b[0m \u001b[0mAttributeError\u001b[0m\u001b[1;33m:\u001b[0m\u001b[1;33m\u001b[0m\u001b[0m\n\u001b[0;32m    217\u001b[0m         \u001b[1;32mreturn\u001b[0m \u001b[0m_wrapit\u001b[0m\u001b[1;33m(\u001b[0m\u001b[0ma\u001b[0m\u001b[1;33m,\u001b[0m \u001b[1;34m'reshape'\u001b[0m\u001b[1;33m,\u001b[0m \u001b[0mnewshape\u001b[0m\u001b[1;33m,\u001b[0m \u001b[0morder\u001b[0m\u001b[1;33m=\u001b[0m\u001b[0morder\u001b[0m\u001b[1;33m)\u001b[0m\u001b[1;33m\u001b[0m\u001b[0m\n\u001b[1;32m--> 218\u001b[1;33m     \u001b[1;32mreturn\u001b[0m \u001b[0mreshape\u001b[0m\u001b[1;33m(\u001b[0m\u001b[0mnewshape\u001b[0m\u001b[1;33m,\u001b[0m \u001b[0morder\u001b[0m\u001b[1;33m=\u001b[0m\u001b[0morder\u001b[0m\u001b[1;33m)\u001b[0m\u001b[1;33m\u001b[0m\u001b[0m\n\u001b[0m\u001b[0;32m    219\u001b[0m \u001b[1;33m\u001b[0m\u001b[0m\n\u001b[0;32m    220\u001b[0m \u001b[1;33m\u001b[0m\u001b[0m\n",
      "\u001b[1;31mValueError\u001b[0m: total size of new array must be unchanged"
     ]
    },
    {
     "data": {
      "image/png": "[encoded data removed]",
      "text/plain": [
       "<matplotlib.figure.Figure at 0x2b74e6d43110>"
      ]
     },
     "metadata": {},
     "output_type": "display_data"
    }
   ],
   "source": [
    "for  i in range(0,40):\n",
    "    select_vect[i] = 255*(select_vect[i] - min(select_vect[i])/(max(select_vect[i])-min(select_vect[i])))\n",
    "\n",
    "#new_c = np.reshape(mean,[42,48])\n",
    "\n",
    "fig = plt.figure(figsize=(15,8))\n",
    "ax = fig.add_subplot(111)\n",
    "\n",
    "first_vect = np.reshape(select_vect,[42,48])\n",
    "ax.imshow(d)\n",
    "#ax.imshow(first_vect)\n"
   ]
  },
  {
   "cell_type": "code",
   "execution_count": null,
   "metadata": {
    "collapsed": true
   },
   "outputs": [],
   "source": []
  }
 ],
 "metadata": {
  "kernelspec": {
   "display_name": "Python 2",
   "language": "python",
   "name": "python2"
  },
  "language_info": {
   "codemirror_mode": {
    "name": "ipython",
    "version": 2
   },
   "file_extension": ".py",
   "mimetype": "text/x-python",
   "name": "python",
   "nbconvert_exporter": "python",
   "pygments_lexer": "ipython2",
   "version": "2.7.6"
  }
 },
 "nbformat": 4,
 "nbformat_minor": 0
}
